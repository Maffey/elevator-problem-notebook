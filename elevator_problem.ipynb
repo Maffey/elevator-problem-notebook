{
 "cells": [
  {
   "cell_type": "markdown",
   "source": [
    "# Elevator Problem\n",
    "Given a building with N amount of floors, we would like to calculate things like the average travel distance (measured in floors).\n",
    "\n",
    "Since travelling by elevator has some interesting properties, for example:\n",
    "- Almost in all cases, people travel from their floor of residence to the first floor and other way around.\n",
    "- We can assume that travelling is symmetrical, i.e. people going out will always return.\n",
    "- In rare cases, people travel between two different floors that don't involve first floor.\n",
    "- People living on the second and third floor are likely to just use stairs instead, since waiting for elevator might often be longer that taking stairs.\n",
    "\n",
    "All those properties of elevator travel impact the average path. This notebook will attempt to naively simulate that process, using multiple simplifications.\n",
    "\n",
    "# Configuration & Probability Distribution\n",
    "\n",
    "First, let's import useful modules:"
   ],
   "metadata": {
    "collapsed": false
   }
  },
  {
   "cell_type": "code",
   "execution_count": 114,
   "outputs": [],
   "source": [
    "import matplotlib.pyplot as plt\n",
    "import random"
   ],
   "metadata": {
    "collapsed": false,
    "pycharm": {
     "name": "#%%\n"
    }
   }
  },
  {
   "cell_type": "markdown",
   "source": [
    "Let's define the number of flats our simulated building will have:"
   ],
   "metadata": {
    "collapsed": false,
    "pycharm": {
     "name": "#%% md\n"
    }
   }
  },
  {
   "cell_type": "code",
   "source": [
    "NUMBER_OF_FLOORS = 10"
   ],
   "metadata": {
    "collapsed": false,
    "pycharm": {
     "name": "#%%\n"
    }
   },
   "execution_count": 115,
   "outputs": []
  },
  {
   "cell_type": "markdown",
   "source": [
    "Now, let's define some properties of travellers distribution. Those numbers have been selected by hand, instinctively, and might not represent reality.\n",
    "\n",
    "To make it simple, it is assumed that:\n",
    "- people don't travel between floors different than first floor and their floor of residence, i.e. people don't visit their neighbours :(\n",
    "- people on the second floor don't use elevator at all.\n",
    "- people on the third floor rarely use elevator.\n",
    "\n",
    "Since travel is always between floor X and first floor, first floor will make up 50% of all travel destination/starting point."
   ],
   "metadata": {
    "collapsed": false,
    "pycharm": {
     "name": "#%% md\n"
    }
   }
  },
  {
   "cell_type": "code",
   "execution_count": 116,
   "outputs": [],
   "source": [
    "FIRST_FLOOR_PROBABILITY = 0.5\n",
    "\n",
    "# Predefined second floor probability\n",
    "SECOND_FLOOR_PROBABILITY = 0\n",
    "\n",
    "# This probability will reduce the probability of travelling from/to third floor.\n",
    "THIRD_FLOOR_PROBABILITY_MODIFIER = 0.3"
   ],
   "metadata": {
    "collapsed": false,
    "pycharm": {
     "name": "#%%\n"
    }
   }
  },
  {
   "cell_type": "markdown",
   "source": [
    "Based on our probabilities and probability modifiers, we can set up values in a list so we can see how the probability distribution looks on a graph."
   ],
   "metadata": {
    "collapsed": false,
    "pycharm": {
     "name": "#%% md\n"
    }
   }
  },
  {
   "cell_type": "code",
   "execution_count": 117,
   "outputs": [
    {
     "name": "stdout",
     "output_type": "stream",
     "text": [
      "floors=[0.5, 0, 0.01875, 0.06875, 0.06875, 0.06875, 0.06875, 0.06875, 0.06875, 0.06875]\n"
     ]
    }
   ],
   "source": [
    "# This is the remaining probability that can be assigned to other floors.\n",
    "remaining_probability = 1 - FIRST_FLOOR_PROBABILITY - SECOND_FLOOR_PROBABILITY\n",
    "\n",
    "# Number of floors that are left to assign probability.\n",
    "# +1 means that 10-floor building is actually 11 floors: ground floor + 10 other floors.\n",
    "remaining_floors = NUMBER_OF_FLOORS - 2\n",
    "\n",
    "# We must now also calculate the probability of the third floor travel.\n",
    "third_floor_probability = remaining_probability / remaining_floors * THIRD_FLOOR_PROBABILITY_MODIFIER\n",
    "\n",
    "# And exclude it from remaining_probability.\n",
    "remaining_probability -= third_floor_probability\n",
    "\n",
    "# Which also means, number of remaining floors changed by one.\n",
    "remaining_floors -= 1\n",
    "\n",
    "# Declare the list of probabilities for floors.\n",
    "floors = []\n",
    "for floor in range(NUMBER_OF_FLOORS):\n",
    "    match floor:\n",
    "        case 0:\n",
    "            floor_probability = FIRST_FLOOR_PROBABILITY\n",
    "        case 1:\n",
    "            floor_probability = SECOND_FLOOR_PROBABILITY\n",
    "        case 2:\n",
    "            floor_probability = third_floor_probability\n",
    "        case _:\n",
    "            floor_probability = remaining_probability / remaining_floors\n",
    "\n",
    "    floors.append(floor_probability)\n",
    "\n",
    "print(f\"{floors=}\")"
   ],
   "metadata": {
    "collapsed": false,
    "pycharm": {
     "name": "#%%\n"
    }
   }
  },
  {
   "cell_type": "markdown",
   "source": [
    "Let's verify that the total probability is correct and makes up total of 1.\n",
    "Since we are doing nasty floating point calculations, the answer won't be a perfect 1."
   ],
   "metadata": {
    "collapsed": false,
    "pycharm": {
     "name": "#%% md\n"
    }
   }
  },
  {
   "cell_type": "code",
   "execution_count": 118,
   "outputs": [
    {
     "name": "stdout",
     "output_type": "stream",
     "text": [
      "Total probability: 0.9999999999999999\n"
     ]
    }
   ],
   "source": [
    "print(f\"Total probability: {sum(floors)}\")"
   ],
   "metadata": {
    "collapsed": false,
    "pycharm": {
     "name": "#%%\n"
    }
   }
  },
  {
   "cell_type": "markdown",
   "source": [
    "Our probability distribution looks like this:"
   ],
   "metadata": {
    "collapsed": false,
    "pycharm": {
     "name": "#%% md\n"
    }
   }
  },
  {
   "cell_type": "code",
   "execution_count": 119,
   "outputs": [
    {
     "data": {
      "text/plain": "<Figure size 432x288 with 1 Axes>",
      "image/png": "[encoded data removed]"
     },
     "metadata": {
      "needs_background": "light"
     },
     "output_type": "display_data"
    }
   ],
   "source": [
    "fig = plt.figure()\n",
    "ax = fig.add_axes([0,0,1,1])\n",
    "ax.bar(range(NUMBER_OF_FLOORS), floors)\n",
    "plt.ylabel(\"Floor probabilities\")\n",
    "plt.xlabel(\"Floor number\")\n",
    "plt.show()"
   ],
   "metadata": {
    "collapsed": false,
    "pycharm": {
     "name": "#%%\n"
    }
   }
  },
  {
   "cell_type": "markdown",
   "source": [
    "And that's it! Setup part is done!\n",
    "\n",
    "## Simulation\n",
    "\n",
    "So now, it's time to simulate random travelling. The process will look as following:\n",
    "- if first floor is selected, then person travels to whatever floor he lives in.\n",
    "- if any other floor is selected, the person has to travel to the first floor.\n",
    "\n",
    "This means that floors distribution list, while nicely showing on the graph how it looks like, won't be that helpful in the simulation process. We will make a more straightforward approach here, where we either start from first floor or from other floors, except the first, and select a floor randomly. Otherwise, we start for any other floor and always go to first floor.\n",
    "\n",
    "But! Since you can see the process is symmetrical (first floor -> random floor) or (random floor -> first floor), then we basically can just calculate it one way, assuming only one direction of travelling.\n",
    "\n",
    "So, after all those simplifications, we just need to remember to calculate the length of the travels made.\n",
    "\n",
    "First, let's once again define the probabilities, or \"weights\" in this case. This is pretty simple in this case: we exclude first and second floor from the equation, and then just apply a weight to the third floor."
   ],
   "metadata": {
    "collapsed": false,
    "pycharm": {
     "name": "#%% md\n"
    }
   }
  },
  {
   "cell_type": "code",
   "execution_count": 120,
   "outputs": [
    {
     "name": "stdout",
     "output_type": "stream",
     "text": [
      "weights=[0.3, 1, 1, 1, 1, 1, 1, 1]\n"
     ]
    }
   ],
   "source": [
    "# Define floors to which can we travel. Note that 0 = first floor (ground); 1 = second floor, etc.\n",
    "destination_floors = range(2, NUMBER_OF_FLOORS)\n",
    "# Define all the weights as equal.\n",
    "weights = [1 for floor in destination_floors]\n",
    "# Then, just use the probability modifier defined below to change the first value.\n",
    "weights[0] = THIRD_FLOOR_PROBABILITY_MODIFIER\n",
    "\n",
    "print(f\"{weights=}\")"
   ],
   "metadata": {
    "collapsed": false,
    "pycharm": {
     "name": "#%%\n"
    }
   }
  },
  {
   "cell_type": "markdown",
   "source": [
    "With weights set, it's time to select random paths. Let's do this for 100_000 journeys total. You can change number of journeys up to your preference."
   ],
   "metadata": {
    "collapsed": false,
    "pycharm": {
     "name": "#%% md\n"
    }
   }
  },
  {
   "cell_type": "code",
   "execution_count": 121,
   "outputs": [],
   "source": [
    "number_of_journeys = 100_000\n",
    "\n",
    "destinations = random.choices(\n",
    "    population=destination_floors,\n",
    "    weights=weights,\n",
    "    k=number_of_journeys\n",
    ")"
   ],
   "metadata": {
    "collapsed": false,
    "pycharm": {
     "name": "#%%\n"
    }
   }
  },
  {
   "cell_type": "markdown",
   "source": [
    "Now that we have our destinations, let's calculate their distances, sum them up and finally - find an average.\n",
    "In our case, the destinations also represent the distance travelled in floors, e.g., a person that travelled from first floor (floor 0) to fourth floor (floor 3), travelled a total of 3 floors."
   ],
   "metadata": {
    "collapsed": false,
    "pycharm": {
     "name": "#%% md\n"
    }
   }
  },
  {
   "cell_type": "code",
   "execution_count": 122,
   "outputs": [
    {
     "name": "stdout",
     "output_type": "stream",
     "text": [
      "average_travel_distance=5.83372\n"
     ]
    }
   ],
   "source": [
    "total_travel_distance = sum(destinations)\n",
    "average_travel_distance = total_travel_distance / number_of_journeys\n",
    "print(f\"{average_travel_distance=}\")"
   ],
   "metadata": {
    "collapsed": false,
    "pycharm": {
     "name": "#%%\n"
    }
   }
  },
  {
   "cell_type": "markdown",
   "source": [
    "And _voilà_! It seems that for a building with 10 floors (ground floor + 10 floors), the average travel distance is around 5.83 for our parameters (0.3 modifier for second floor, no travelling for first floor).\n",
    "\n",
    "## Another example\n",
    "\n",
    "Okay, that was pretty simple in its essence. Let's come up with a litle bit more complex example:\n",
    "- first floor stays as before\n",
    "- people rarely travel to/from second floor\n",
    "- people sometimes travel to/from third floor.\n",
    "- people often, but not always, travel to/from fourth floor.\n",
    "\n",
    "For that, we will define different weights/floor modifiers."
   ],
   "metadata": {
    "collapsed": false,
    "pycharm": {
     "name": "#%% md\n"
    }
   }
  },
  {
   "cell_type": "code",
   "execution_count": 123,
   "outputs": [
    {
     "name": "stdout",
     "output_type": "stream",
     "text": [
      "weights=[0.1, 0.5, 0.85, 1, 1, 1, 1, 1, 1]\n"
     ]
    }
   ],
   "source": [
    "SECOND_FLOOR_PROBABILITY_MODIFIER = 0.1\n",
    "THIRD_FLOOR_PROBABILITY_MODIFIER = 0.5\n",
    "FOURTH_FLOOR_PROBABILITY_MODIFIER = 0.85\n",
    "\n",
    "# Define floors to which can we travel. Note that 0 = first floor (ground); 1 = second floor, etc.\n",
    "destination_floors = range(1, NUMBER_OF_FLOORS)\n",
    "# Define all the weights as equal.\n",
    "weights = [1 for floor in destination_floors]\n",
    "# Then, just use the probability modifier defined below to change the first value.\n",
    "weights[0] = SECOND_FLOOR_PROBABILITY_MODIFIER\n",
    "weights[1] = THIRD_FLOOR_PROBABILITY_MODIFIER\n",
    "weights[2] = FOURTH_FLOOR_PROBABILITY_MODIFIER\n",
    "\n",
    "print(f\"{weights=}\")"
   ],
   "metadata": {
    "collapsed": false,
    "pycharm": {
     "name": "#%%\n"
    }
   }
  },
  {
   "cell_type": "markdown",
   "source": [
    "And here's the result:"
   ],
   "metadata": {
    "collapsed": false,
    "pycharm": {
     "name": "#%% md\n"
    }
   }
  },
  {
   "cell_type": "code",
   "execution_count": 124,
   "outputs": [
    {
     "name": "stdout",
     "output_type": "stream",
     "text": [
      "average_travel_distance=5.726\n"
     ]
    }
   ],
   "source": [
    "number_of_journeys = 100_000\n",
    "\n",
    "destinations = random.choices(\n",
    "    population=destination_floors,\n",
    "    weights=weights,\n",
    "    k=number_of_journeys\n",
    ")\n",
    "\n",
    "total_travel_distance = sum(destinations)\n",
    "average_travel_distance = total_travel_distance / number_of_journeys\n",
    "print(f\"{average_travel_distance=}\")"
   ],
   "metadata": {
    "collapsed": false,
    "pycharm": {
     "name": "#%%\n"
    }
   }
  },
  {
   "cell_type": "markdown",
   "source": [
    "## Play with it yourself!\n",
    "In this case, the results are similar. What if we have 200 floors, however? Or use different modifiers?\n",
    "\n",
    "Go and change whatever you want!"
   ],
   "metadata": {
    "collapsed": false,
    "pycharm": {
     "name": "#%% md\n"
    }
   }
  },
  {
   "cell_type": "code",
   "execution_count": 125,
   "outputs": [
    {
     "name": "stdout",
     "output_type": "stream",
     "text": [
      "average_travel_distance=100.60165\n"
     ]
    }
   ],
   "source": [
    "NUMBER_OF_FLOORS = 200\n",
    "\n",
    "SECOND_FLOOR_PROBABILITY_MODIFIER = 0.1\n",
    "THIRD_FLOOR_PROBABILITY_MODIFIER = 0.5\n",
    "FOURTH_FLOOR_PROBABILITY_MODIFIER = 0.85\n",
    "\n",
    "# Define floors to which can we travel. Note that 0 = first floor (ground); 1 = second floor, etc.\n",
    "destination_floors = range(1, NUMBER_OF_FLOORS)\n",
    "# Define all the weights as equal.\n",
    "weights = [1 for floor in destination_floors]\n",
    "# Then, just use the probability modifier defined below to change the first value.\n",
    "weights[0] = SECOND_FLOOR_PROBABILITY_MODIFIER\n",
    "weights[1] = THIRD_FLOOR_PROBABILITY_MODIFIER\n",
    "weights[2] = FOURTH_FLOOR_PROBABILITY_MODIFIER\n",
    "\n",
    "number_of_journeys = 100_000\n",
    "\n",
    "destinations = random.choices(\n",
    "    population=destination_floors,\n",
    "    weights=weights,\n",
    "    k=number_of_journeys\n",
    ")\n",
    "\n",
    "total_travel_distance = sum(destinations)\n",
    "average_travel_distance = total_travel_distance / number_of_journeys\n",
    "print(f\"{average_travel_distance=}\")"
   ],
   "metadata": {
    "collapsed": false,
    "pycharm": {
     "name": "#%%\n"
    }
   }
  },
  {
   "cell_type": "markdown",
   "source": [
    "For 200 floors and 0.1/0.5/0.85 modifiers, the average travel distance is 100.95.\n",
    "\n",
    "Let's actually plot the distribution of distances!"
   ],
   "metadata": {
    "collapsed": false,
    "pycharm": {
     "name": "#%% md\n"
    }
   }
  },
  {
   "cell_type": "code",
   "execution_count": 126,
   "outputs": [
    {
     "data": {
      "text/plain": "<Figure size 432x288 with 1 Axes>",
      "image/png": "[encoded data removed]"
     },
     "metadata": {
      "needs_background": "light"
     },
     "output_type": "display_data"
    }
   ],
   "source": [
    "plt.hist(destinations)\n",
    "plt.show()"
   ],
   "metadata": {
    "collapsed": false,
    "pycharm": {
     "name": "#%%\n"
    }
   }
  },
  {
   "cell_type": "markdown",
   "source": [
    "As you can see, as the number of floors grows, the fact that people at the very low floors won't use the elevator has less and less impact.\n",
    "\n",
    "It's important to note, however, than in a building of 200 floors and only one elevator, the amount of people at the lower floors that would pick stairs over elevator would grow significantly.\n",
    "\n",
    "## Summary\n",
    "\n",
    "And that's it! I realize this is very basic, just-having-some-fun type of notebook with no realistic probabilities and huge simplifications.\n",
    "\n",
    "Project of this purpose was to solidify some thoughts about the way people move in elevators and to play a little with Jupyter Notebooks.\n",
    "\n",
    "If you somehow stumble upon this (and probably find it boring), I actually recommend a read on the actual statistical problem associated with elevators: [Traffic_calculations](https://en.wikipedia.org/wiki/Elevator#Traffic_calculations)\n",
    "\n"
   ],
   "metadata": {
    "collapsed": false,
    "pycharm": {
     "name": "#%% md\n"
    }
   }
  }
 ],
 "metadata": {
  "kernelspec": {
   "display_name": "Python 3",
   "language": "python",
   "name": "python3"
  },
  "language_info": {
   "codemirror_mode": {
    "name": "ipython",
    "version": 2
   },
   "file_extension": ".py",
   "mimetype": "text/x-python",
   "name": "python",
   "nbconvert_exporter": "python",
   "pygments_lexer": "ipython2",
   "version": "2.7.6"
  }
 },
 "nbformat": 4,
 "nbformat_minor": 0
}